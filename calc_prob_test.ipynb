{
 "cells": [
  {
   "cell_type": "code",
   "execution_count": 1,
   "metadata": {},
   "outputs": [],
   "source": [
    "from src.board import Board"
   ]
  },
  {
   "cell_type": "code",
   "execution_count": 2,
   "metadata": {},
   "outputs": [],
   "source": [
    "from src.game_organizer import GameOrganizer\n",
    "from src.player import PlayerRandom, PlayerAlphaRandom\n",
    "from src.util import test_n_battle"
   ]
  },
  {
   "cell_type": "code",
   "execution_count": 3,
   "metadata": {},
   "outputs": [
    {
     "name": "stdout",
     "output_type": "stream",
     "text": [
      "current ranks   :  [1, 2, 3, 4, 5]\n",
      "prohibited hair :  []\n",
      "prohibited cloth:  []\n",
      "A cards:  [22, 52, 24, 12, 34]\n",
      "B cards:  [23, 51, 25, 35, 54]\n",
      "\n",
      "Turn is A\n",
      "play card: 22, side: 1\n",
      "current ranks   :  [3, 4, 5, 1, 2]\n",
      "prohibited hair :  []\n",
      "prohibited cloth:  []\n",
      "A cards:  [52, 24, 12, 34]\n",
      "B cards:  [23, 51, 25, 35, 54]\n",
      "\n",
      "Turn is B\n",
      "play card: 54, side: 0\n",
      "current ranks   :  [3, 4, 5, 1, 2]\n",
      "prohibited hair :  []\n",
      "prohibited cloth:  [3]\n",
      "A cards:  [52, 24, 12, 34]\n",
      "B cards:  [23, 51, 25, 35]\n",
      "\n",
      "Turn is A\n",
      "play card: 34, side: 1\n",
      "current ranks   :  [5, 1, 2, 3, 4]\n",
      "prohibited hair :  []\n",
      "prohibited cloth:  [3]\n",
      "A cards:  [52, 24, 12]\n",
      "B cards:  [23, 51, 25, 35]\n",
      "\n",
      "Turn is B\n",
      "play card: 35, side: 1\n",
      "current ranks   :  [2, 3, 4, 5, 1]\n",
      "prohibited hair :  []\n",
      "prohibited cloth:  [3]\n",
      "A cards:  [52, 24, 12]\n",
      "B cards:  [23, 51, 25]\n",
      "\n",
      "Turn is A\n",
      "play card: 24, side: 1\n",
      "current ranks   :  [4, 5, 1, 2, 3]\n",
      "prohibited hair :  []\n",
      "prohibited cloth:  [3]\n",
      "A cards:  [52, 12]\n",
      "B cards:  [23, 51, 25]\n",
      "\n",
      "Turn is B\n",
      "play card: 23, side: 0\n",
      "current ranks   :  [4, 5, 1, 2, 3]\n",
      "prohibited hair :  []\n",
      "prohibited cloth:  [3, 2]\n",
      "A cards:  [52, 12]\n",
      "B cards:  [51, 25]\n",
      "\n",
      "Winner is B.\n"
     ]
    },
    {
     "data": {
      "text/plain": [
       "1"
      ]
     },
     "execution_count": 3,
     "metadata": {},
     "output_type": "execute_result"
    }
   ],
   "source": [
    "p1 = PlayerAlphaRandom(\"A\")\n",
    "p2 = PlayerAlphaRandom(\"B\")\n",
    "game = GameOrganizer(p1, p2)\n",
    "game.progress()"
   ]
  },
  {
   "cell_type": "code",
   "execution_count": 4,
   "metadata": {},
   "outputs": [],
   "source": [
    "p3=PlayerRandom(\"C\")"
   ]
  },
  {
   "cell_type": "code",
   "execution_count": 5,
   "metadata": {},
   "outputs": [
    {
     "name": "stdout",
     "output_type": "stream",
     "text": [
      "A: 600 win\n",
      "C: 400 win\n"
     ]
    }
   ],
   "source": [
    "test_n_battle(p1, p3, 1000)"
   ]
  },
  {
   "cell_type": "code",
   "execution_count": 6,
   "metadata": {},
   "outputs": [
    {
     "data": {
      "text/plain": [
       "[[44, 45, 41], [51, 54, 55], [14, 15, 11], [24, 25, 21], [31, 34, 35]]"
      ]
     },
     "execution_count": 6,
     "metadata": {},
     "output_type": "execute_result"
    }
   ],
   "source": [
    "game.board.get_card_rank()"
   ]
  }
 ],
 "metadata": {
  "kernelspec": {
   "display_name": "base",
   "language": "python",
   "name": "python3"
  },
  "language_info": {
   "codemirror_mode": {
    "name": "ipython",
    "version": 3
   },
   "file_extension": ".py",
   "mimetype": "text/x-python",
   "name": "python",
   "nbconvert_exporter": "python",
   "pygments_lexer": "ipython3",
   "version": "3.10.9"
  }
 },
 "nbformat": 4,
 "nbformat_minor": 2
}
